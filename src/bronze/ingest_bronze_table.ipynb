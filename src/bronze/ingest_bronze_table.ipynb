{
 "cells": [
  {
   "cell_type": "code",
   "execution_count": 0,
   "metadata": {
    "application/vnd.databricks.v1+cell": {
     "cellMetadata": {
      "byteLimit": 2048000,
      "implicitDf": true,
      "rowLimit": 10000
     },
     "inputWidgets": {},
     "nuid": "d766aa98-0a5d-404e-aeee-050404f9239c",
     "showTitle": false,
     "tableResultSettingsMap": {},
     "title": ""
    }
   },
   "outputs": [],
   "source": [
    "# %sql\n",
    "# CREATE CATALOG nyctaxi_dev;\n",
    "# CREATE CATALOG nyctaxi_stage;\n",
    "# CREATE CATALOG nyctaxi_prod;\n"
   ]
  },
  {
   "cell_type": "code",
   "execution_count": 0,
   "metadata": {
    "application/vnd.databricks.v1+cell": {
     "cellMetadata": {
      "byteLimit": 2048000,
      "implicitDf": true,
      "rowLimit": 10000
     },
     "inputWidgets": {},
     "nuid": "16243451-9c27-4d7c-9efd-0a878fbecb59",
     "showTitle": false,
     "tableResultSettingsMap": {},
     "title": ""
    }
   },
   "outputs": [],
   "source": [
    "# %sql\n",
    "# CREATE SCHEMA IF NOT EXISTS nyctaxi_dev.bronze;\n",
    "# CREATE SCHEMA IF NOT EXISTS nyctaxi_dev.silver;\n",
    "# CREATE SCHEMA IF NOT EXISTS nyctaxi_dev.gold;\n",
    "\n",
    "# CREATE SCHEMA IF NOT EXISTS nyctaxi_stage.bronze;\n",
    "# CREATE SCHEMA IF NOT EXISTS nyctaxi_stage.silver;\n",
    "# CREATE SCHEMA IF NOT EXISTS nyctaxi_stage.gold;\n",
    "\n",
    "# CREATE SCHEMA IF NOT EXISTS nyctaxi_prod.bronze;\n",
    "# CREATE SCHEMA IF NOT EXISTS nyctaxi_prod.silver;\n",
    "# CREATE SCHEMA IF NOT EXISTS nyctaxi_prod.gold;\n",
    "\n"
   ]
  },
  {
   "cell_type": "code",
   "execution_count": 0,
   "metadata": {
    "application/vnd.databricks.v1+cell": {
     "cellMetadata": {
      "byteLimit": 2048000,
      "implicitDf": true,
      "rowLimit": 10000
     },
     "inputWidgets": {},
     "nuid": "c0e12ff5-c3b0-4613-809b-7212c45a6d4d",
     "showTitle": false,
     "tableResultSettingsMap": {},
     "title": ""
    }
   },
   "outputs": [],
   "source": [
    "# %sql\n",
    "# CREATE SCHEMA IF NOT EXISTS nyctaxi_dev.dbo;\n",
    "# CREATE SCHEMA IF NOT EXISTS nyctaxi_stage.dbo;\n",
    "# CREATE SCHEMA IF NOT EXISTS nyctaxi_prod.dbo;\n"
   ]
  },
  {
   "cell_type": "code",
   "execution_count": 0,
   "metadata": {
    "application/vnd.databricks.v1+cell": {
     "cellMetadata": {
      "byteLimit": 2048000,
      "implicitDf": true,
      "rowLimit": 10000
     },
     "inputWidgets": {},
     "nuid": "cb81c75c-e88c-4e30-a66e-00f6194a887e",
     "showTitle": false,
     "tableResultSettingsMap": {},
     "title": ""
    }
   },
   "outputs": [],
   "source": [
    "# %sql\n",
    "# CREATE VOLUME nyctaxi_dev.dbo.data;\n",
    "# CREATE VOLUME nyctaxi_stage.dbo.data;\n",
    "# CREATE VOLUME nyctaxi_prod.dbo.data;"
   ]
  },
  {
   "cell_type": "code",
   "execution_count": 0,
   "metadata": {
    "application/vnd.databricks.v1+cell": {
     "cellMetadata": {},
     "inputWidgets": {},
     "nuid": "d5881c5a-78cd-4b07-acf8-bcc1ffda525f",
     "showTitle": false,
     "tableResultSettingsMap": {},
     "title": ""
    }
   },
   "outputs": [],
   "source": [
    "environment = dbutils.widgets.get(\"environment\")"
   ]
  },
  {
   "cell_type": "code",
   "execution_count": 0,
   "metadata": {
    "application/vnd.databricks.v1+cell": {
     "cellMetadata": {},
     "inputWidgets": {},
     "nuid": "2b2c2ed3-1617-4288-a20d-0025d55c2b62",
     "showTitle": false,
     "tableResultSettingsMap": {},
     "title": ""
    }
   },
   "outputs": [],
   "source": [
    "catalog = f\"nyctaxi_{environment}\""
   ]
  },
  {
   "cell_type": "code",
   "execution_count": 0,
   "metadata": {
    "application/vnd.databricks.v1+cell": {
     "cellMetadata": {
      "byteLimit": 2048000,
      "rowLimit": 10000
     },
     "inputWidgets": {},
     "nuid": "c979ba5f-0ff6-4f0f-865d-d59026cba954",
     "showTitle": false,
     "tableResultSettingsMap": {},
     "title": ""
    }
   },
   "outputs": [],
   "source": [
    "data_path = f\"/Volumes/{catalog}/dbo/data/yellow_tripdata_*.parquet\""
   ]
  },
  {
   "cell_type": "code",
   "execution_count": 0,
   "metadata": {
    "application/vnd.databricks.v1+cell": {
     "cellMetadata": {
      "byteLimit": 2048000,
      "rowLimit": 10000
     },
     "inputWidgets": {},
     "nuid": "775b6a95-d46d-4d2d-a575-8e7d2b99d19a",
     "showTitle": false,
     "tableResultSettingsMap": {},
     "title": ""
    }
   },
   "outputs": [],
   "source": [
    "df = spark.read.parquet(data_path)\n",
    "df.write.mode(\"overwrite\").saveAsTable(f\"{catalog}.bronze.yellowtaxi_trips\")"
   ]
  },
  {
   "cell_type": "code",
   "execution_count": 0,
   "metadata": {
    "application/vnd.databricks.v1+cell": {
     "cellMetadata": {},
     "inputWidgets": {},
     "nuid": "4252aa21-6012-457f-b6e0-879bdc988b72",
     "showTitle": false,
     "tableResultSettingsMap": {},
     "title": ""
    }
   },
   "outputs": [],
   "source": []
  }
 ],
 "metadata": {
  "application/vnd.databricks.v1+notebook": {
   "computePreferences": null,
   "dashboards": [],
   "environmentMetadata": {
    "base_environment": "",
    "environment_version": "2"
   },
   "inputWidgetPreferences": null,
   "language": "python",
   "notebookMetadata": {
    "mostRecentlyExecutedCommandWithImplicitDF": {
     "commandId": 5162460029816404,
     "dataframes": [
      "_sqldf"
     ]
    },
    "pythonIndentUnit": 4
   },
   "notebookName": "ingest_bronze_table",
   "widgets": {}
  },
  "language_info": {
   "name": "python"
  }
 },
 "nbformat": 4,
 "nbformat_minor": 0
}
